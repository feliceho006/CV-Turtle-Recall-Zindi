{
 "cells": [
  {
   "cell_type": "markdown",
   "metadata": {
    "id": "7pkR01SXK1tS"
   },
   "source": [
    "Import all the libraries required for this notebook"
   ]
  },
  {
   "cell_type": "code",
   "execution_count": 1,
   "metadata": {
    "id": "UBHHqPy2lE0L"
   },
   "outputs": [],
   "source": [
    "from __future__ import print_function, division\n",
    "\n",
    "import torch\n",
    "import torch.nn as nn\n",
    "import torch.optim as optim\n",
    "from torch.optim import lr_scheduler\n",
    "import torch.backends.cudnn as cudnn\n",
    "import numpy as np\n",
    "import torchvision\n",
    "from torchvision import datasets, models, transforms\n",
    "import matplotlib.pyplot as plt\n",
    "import time\n",
    "import os\n",
    "import copy\n",
    "import pandas as pd\n",
    "import requests\n",
    "import io\n",
    "import urllib.parse\n",
    "import numpy as np\n",
    "import seaborn as sns\n",
    "import matplotlib.pyplot as plt\n",
    "import functools\n",
    "from PIL import Image  # Image utilities.\n",
    "import tqdm\n",
    "import numpy as np\n",
    "from sklearn.model_selection import train_test_split\n",
    "from torch.utils.data import Dataset, DataLoader\n",
    "import imageio as io_temp\n",
    "from skimage.transform import resize\n",
    "from sklearn.metrics import roc_curve, auc, roc_auc_score, classification_report, confusion_matrix\n",
    "from PIL import Image\n",
    "\n",
    "\n",
    "cudnn.benchmark = True\n",
    "plt.ion()   # interactive mode"
   ]
  },
  {
   "cell_type": "markdown",
   "metadata": {
    "id": "_8KkHItyK7EI"
   },
   "source": [
    "Downloading the dataset from online resources"
   ]
  },
  {
   "cell_type": "code",
   "execution_count": 2,
   "metadata": {
    "colab": {
     "base_uri": "https://localhost:8080/"
    },
    "id": "wA_fHgODZqE0",
    "outputId": "72a04786-8800-46cb-e776-a352d40e66a6"
   },
   "outputs": [
    {
     "name": "stdout",
     "output_type": "stream",
     "text": [
      "The total number of images is: 13891\n"
     ]
    }
   ],
   "source": [
    "SOURCE_URL = 'https://storage.googleapis.com/dm-turtle-recall/images.tar'\n",
    "IMAGE_DIR = './turtle_recall/images'\n",
    "TAR_PATH = os.path.join(IMAGE_DIR, os.path.basename(SOURCE_URL))\n",
    "EXPECTED_IMAGE_COUNT = 13891\n",
    "\n",
    "%sx mkdir --parents \"{IMAGE_DIR}\"\n",
    "if len(os.listdir(IMAGE_DIR)) != EXPECTED_IMAGE_COUNT:\n",
    "  %sx wget --no-check-certificate -O \"{TAR_PATH}\" \"{SOURCE_URL}\"\n",
    "  %sx tar --extract --file=\"{TAR_PATH}\" --directory=\"{IMAGE_DIR}\"\n",
    "  %sx rm \"{TAR_PATH}\"\n",
    "\n",
    "print(f'The total number of images is: {len(os.listdir(IMAGE_DIR))}')"
   ]
  },
  {
   "cell_type": "code",
   "execution_count": 3,
   "metadata": {
    "id": "uapoX2flaGEG"
   },
   "outputs": [],
   "source": [
    "BASE_URL = 'https://storage.googleapis.com/dm-turtle-recall/'\n",
    "\n",
    "\n",
    "def read_csv_from_web(file_name):\n",
    "  url = urllib.parse.urljoin(BASE_URL, file_name)\n",
    "  content = requests.get(url).content\n",
    "  return pd.read_csv(io.StringIO(content.decode('utf-8')))\n",
    "\n",
    "# Read in csv files.\n",
    "train = read_csv_from_web('train.csv')\n",
    "test = read_csv_from_web('test.csv')\n",
    "sample_submission = read_csv_from_web('sample_submission.csv')\n",
    "\n",
    "# Convert image_location strings to lowercase.\n",
    "for df in [train, test]:\n",
    "  df.image_location = df.image_location.apply(lambda x: x.lower())\n",
    "  assert set(df.image_location.unique()) == set(['left', 'right', 'top'])"
   ]
  },
  {
   "cell_type": "code",
   "execution_count": 4,
   "metadata": {
    "colab": {
     "base_uri": "https://localhost:8080/",
     "height": 205
    },
    "id": "d-czhL74aKCA",
    "outputId": "e533d416-b8c4-4160-a3b3-8dc2247734ff"
   },
   "outputs": [
    {
     "data": {
      "text/html": [
       "<div>\n",
       "<style scoped>\n",
       "    .dataframe tbody tr th:only-of-type {\n",
       "        vertical-align: middle;\n",
       "    }\n",
       "\n",
       "    .dataframe tbody tr th {\n",
       "        vertical-align: top;\n",
       "    }\n",
       "\n",
       "    .dataframe thead th {\n",
       "        text-align: right;\n",
       "    }\n",
       "</style>\n",
       "<table border=\"1\" class=\"dataframe\">\n",
       "  <thead>\n",
       "    <tr style=\"text-align: right;\">\n",
       "      <th></th>\n",
       "      <th>image_id</th>\n",
       "      <th>image_location</th>\n",
       "      <th>turtle_id</th>\n",
       "    </tr>\n",
       "  </thead>\n",
       "  <tbody>\n",
       "    <tr>\n",
       "      <th>0</th>\n",
       "      <td>ID_2RK4WLN8</td>\n",
       "      <td>top</td>\n",
       "      <td>t_id_VP2NW7aV</td>\n",
       "    </tr>\n",
       "    <tr>\n",
       "      <th>1</th>\n",
       "      <td>ID_VVW0QXLX</td>\n",
       "      <td>left</td>\n",
       "      <td>t_id_qZ0iZYsC</td>\n",
       "    </tr>\n",
       "    <tr>\n",
       "      <th>2</th>\n",
       "      <td>ID_RVATH2HZ</td>\n",
       "      <td>right</td>\n",
       "      <td>t_id_3b65X5Lw</td>\n",
       "    </tr>\n",
       "    <tr>\n",
       "      <th>3</th>\n",
       "      <td>ID_2GB90GPS</td>\n",
       "      <td>left</td>\n",
       "      <td>t_id_YjXYTCGC</td>\n",
       "    </tr>\n",
       "    <tr>\n",
       "      <th>4</th>\n",
       "      <td>ID_LM6S0B1M</td>\n",
       "      <td>top</td>\n",
       "      <td>t_id_d6aYXtor</td>\n",
       "    </tr>\n",
       "  </tbody>\n",
       "</table>\n",
       "</div>"
      ],
      "text/plain": [
       "      image_id image_location      turtle_id\n",
       "0  ID_2RK4WLN8            top  t_id_VP2NW7aV\n",
       "1  ID_VVW0QXLX           left  t_id_qZ0iZYsC\n",
       "2  ID_RVATH2HZ          right  t_id_3b65X5Lw\n",
       "3  ID_2GB90GPS           left  t_id_YjXYTCGC\n",
       "4  ID_LM6S0B1M            top  t_id_d6aYXtor"
      ]
     },
     "execution_count": 4,
     "metadata": {},
     "output_type": "execute_result"
    }
   ],
   "source": [
    "train.head()"
   ]
  },
  {
   "cell_type": "code",
   "execution_count": 5,
   "metadata": {
    "colab": {
     "base_uri": "https://localhost:8080/",
     "height": 205
    },
    "id": "xFMvi9VQaLGY",
    "outputId": "41412180-ca8a-443f-abde-b787aadf6dbe"
   },
   "outputs": [
    {
     "data": {
      "text/html": [
       "<div>\n",
       "<style scoped>\n",
       "    .dataframe tbody tr th:only-of-type {\n",
       "        vertical-align: middle;\n",
       "    }\n",
       "\n",
       "    .dataframe tbody tr th {\n",
       "        vertical-align: top;\n",
       "    }\n",
       "\n",
       "    .dataframe thead th {\n",
       "        text-align: right;\n",
       "    }\n",
       "</style>\n",
       "<table border=\"1\" class=\"dataframe\">\n",
       "  <thead>\n",
       "    <tr style=\"text-align: right;\">\n",
       "      <th></th>\n",
       "      <th>image_id</th>\n",
       "      <th>image_location</th>\n",
       "    </tr>\n",
       "  </thead>\n",
       "  <tbody>\n",
       "    <tr>\n",
       "      <th>0</th>\n",
       "      <td>ID_6NEDKOYZ</td>\n",
       "      <td>top</td>\n",
       "    </tr>\n",
       "    <tr>\n",
       "      <th>1</th>\n",
       "      <td>ID_57QZ4S9N</td>\n",
       "      <td>left</td>\n",
       "    </tr>\n",
       "    <tr>\n",
       "      <th>2</th>\n",
       "      <td>ID_OCGGJS5X</td>\n",
       "      <td>left</td>\n",
       "    </tr>\n",
       "    <tr>\n",
       "      <th>3</th>\n",
       "      <td>ID_R2993S3S</td>\n",
       "      <td>top</td>\n",
       "    </tr>\n",
       "    <tr>\n",
       "      <th>4</th>\n",
       "      <td>ID_2E011NB0</td>\n",
       "      <td>left</td>\n",
       "    </tr>\n",
       "  </tbody>\n",
       "</table>\n",
       "</div>"
      ],
      "text/plain": [
       "      image_id image_location\n",
       "0  ID_6NEDKOYZ            top\n",
       "1  ID_57QZ4S9N           left\n",
       "2  ID_OCGGJS5X           left\n",
       "3  ID_R2993S3S            top\n",
       "4  ID_2E011NB0           left"
      ]
     },
     "execution_count": 5,
     "metadata": {},
     "output_type": "execute_result"
    }
   ],
   "source": [
    "test.head()"
   ]
  },
  {
   "cell_type": "code",
   "execution_count": 6,
   "metadata": {
    "colab": {
     "base_uri": "https://localhost:8080/"
    },
    "id": "gJ3QJpFuaNQR",
    "outputId": "a73ab7ff-84e5-4cf9-e566-b035bd338c67"
   },
   "outputs": [
    {
     "data": {
      "text/plain": [
       "((2145, 3), (490, 2))"
      ]
     },
     "execution_count": 6,
     "metadata": {},
     "output_type": "execute_result"
    }
   ],
   "source": [
    "train.shape, test.shape"
   ]
  },
  {
   "cell_type": "code",
   "execution_count": 7,
   "metadata": {
    "colab": {
     "base_uri": "https://localhost:8080/"
    },
    "id": "_mTpIevBaPsn",
    "outputId": "7c8ccc42-26d6-4f79-ceab-b4c4632d07b4"
   },
   "outputs": [
    {
     "name": "stdout",
     "output_type": "stream",
     "text": [
      "There are 100 unique turtles in the train set.\n"
     ]
    }
   ],
   "source": [
    "print(f\"There are {train.turtle_id.nunique()} unique turtles in the train set.\")"
   ]
  },
  {
   "cell_type": "code",
   "execution_count": 8,
   "metadata": {
    "id": "KlgyH88OaRDk"
   },
   "outputs": [],
   "source": [
    "train_images_per_turtle = pd.value_counts(train['turtle_id'])"
   ]
  },
  {
   "cell_type": "code",
   "execution_count": 9,
   "metadata": {
    "colab": {
     "base_uri": "https://localhost:8080/"
    },
    "id": "V_j6qTcUaSZo",
    "outputId": "19fd9b77-1d2b-4c35-ec68-8fa157b1804e"
   },
   "outputs": [
    {
     "data": {
      "text/plain": [
       "t_id_ROFhVsy2    77\n",
       "t_id_hRzOoJ2t    68\n",
       "t_id_VP2NW7aV    58\n",
       "t_id_Kf73l69A    57\n",
       "t_id_G5eoqwD8    47\n",
       "                 ..\n",
       "t_id_ifWwxWF4    10\n",
       "t_id_Dv4O8bOM    10\n",
       "t_id_p77GDtzg     9\n",
       "t_id_OqU1NWEA     9\n",
       "t_id_J5dngbNA     8\n",
       "Name: turtle_id, Length: 100, dtype: int64"
      ]
     },
     "execution_count": 9,
     "metadata": {},
     "output_type": "execute_result"
    }
   ],
   "source": [
    "train_images_per_turtle"
   ]
  },
  {
   "cell_type": "markdown",
   "metadata": {
    "id": "nbN_rb3ELPDS"
   },
   "source": [
    "Capturing all the turtle IDs and assigning a number to each turtle"
   ]
  },
  {
   "cell_type": "code",
   "execution_count": 10,
   "metadata": {
    "id": "hg0Zy1Mx4mrs"
   },
   "outputs": [],
   "source": [
    "ls = pd.unique(train['turtle_id'])\n",
    "classes = {}\n",
    "for i in range(len(ls)):\n",
    "    classes[ls[i]] = i\n",
    "class_names = classes"
   ]
  },
  {
   "cell_type": "code",
   "execution_count": 11,
   "metadata": {
    "id": "RCI84TQY27e3"
   },
   "outputs": [],
   "source": [
    "num_classes = len(class_names)"
   ]
  },
  {
   "cell_type": "code",
   "execution_count": 12,
   "metadata": {
    "colab": {
     "base_uri": "https://localhost:8080/"
    },
    "id": "dkrKdadd3O7K",
    "outputId": "2b4fe25e-8a36-42de-cea5-166f8e844b31"
   },
   "outputs": [
    {
     "name": "stdout",
     "output_type": "stream",
     "text": [
      "(1716, 2) (214, 2) (215, 2) (1716,) (214,) (215,)\n"
     ]
    }
   ],
   "source": [
    "X_train, X_test, y_train, y_test = train_test_split(train[['image_id','image_location']], train['turtle_id'], test_size=0.20, random_state=42, stratify=train['turtle_id'])\n",
    "X_test, X_val, y_test, y_val = train_test_split(X_test, y_test, test_size=0.50, random_state=42, stratify=y_test)\n",
    "\n",
    "print(X_train.shape, X_test.shape, X_val.shape ,y_train.shape, y_test.shape, y_val.shape)\n",
    "\n",
    "train_ds = pd.concat([X_train, y_train], axis=1)\n",
    "train_ds['type'] = \"train\"\n",
    "test_ds = pd.concat([X_test, y_test], axis=1)\n",
    "test_ds['type'] = \"test\"\n",
    "val_ds = pd.concat([X_val, y_val], axis=1)\n",
    "val_ds['type'] = \"val\""
   ]
  },
  {
   "cell_type": "code",
   "execution_count": 13,
   "metadata": {
    "id": "yI3brvFt4msD"
   },
   "outputs": [],
   "source": [
    "dataset_sizes = {'train': len(train_ds), 'test': len(test_ds), 'val': len(val_ds)}"
   ]
  },
  {
   "cell_type": "code",
   "execution_count": 14,
   "metadata": {
    "colab": {
     "base_uri": "https://localhost:8080/",
     "height": 423
    },
    "id": "cM28Kivt-CgO",
    "outputId": "5ffd96e7-0cf6-461d-f761-dd3697398ff6"
   },
   "outputs": [
    {
     "data": {
      "text/html": [
       "<div>\n",
       "<style scoped>\n",
       "    .dataframe tbody tr th:only-of-type {\n",
       "        vertical-align: middle;\n",
       "    }\n",
       "\n",
       "    .dataframe tbody tr th {\n",
       "        vertical-align: top;\n",
       "    }\n",
       "\n",
       "    .dataframe thead th {\n",
       "        text-align: right;\n",
       "    }\n",
       "</style>\n",
       "<table border=\"1\" class=\"dataframe\">\n",
       "  <thead>\n",
       "    <tr style=\"text-align: right;\">\n",
       "      <th></th>\n",
       "      <th>image_id</th>\n",
       "      <th>image_location</th>\n",
       "      <th>turtle_id</th>\n",
       "      <th>type</th>\n",
       "    </tr>\n",
       "  </thead>\n",
       "  <tbody>\n",
       "    <tr>\n",
       "      <th>708</th>\n",
       "      <td>ID_UC0NFKIH</td>\n",
       "      <td>left</td>\n",
       "      <td>t_id_UVQa4BMz</td>\n",
       "      <td>train</td>\n",
       "    </tr>\n",
       "    <tr>\n",
       "      <th>59</th>\n",
       "      <td>ID_IZB1O90H</td>\n",
       "      <td>right</td>\n",
       "      <td>t_id_2QmcRkNj</td>\n",
       "      <td>train</td>\n",
       "    </tr>\n",
       "    <tr>\n",
       "      <th>614</th>\n",
       "      <td>ID_L4O6H0WC</td>\n",
       "      <td>top</td>\n",
       "      <td>t_id_8b8sprYe</td>\n",
       "      <td>train</td>\n",
       "    </tr>\n",
       "    <tr>\n",
       "      <th>2011</th>\n",
       "      <td>ID_BUYIHPE9</td>\n",
       "      <td>left</td>\n",
       "      <td>t_id_tjWepji1</td>\n",
       "      <td>train</td>\n",
       "    </tr>\n",
       "    <tr>\n",
       "      <th>761</th>\n",
       "      <td>ID_2HBGMZLT</td>\n",
       "      <td>right</td>\n",
       "      <td>t_id_BI99coHt</td>\n",
       "      <td>train</td>\n",
       "    </tr>\n",
       "    <tr>\n",
       "      <th>...</th>\n",
       "      <td>...</td>\n",
       "      <td>...</td>\n",
       "      <td>...</td>\n",
       "      <td>...</td>\n",
       "    </tr>\n",
       "    <tr>\n",
       "      <th>1126</th>\n",
       "      <td>ID_3JHL0XDW</td>\n",
       "      <td>left</td>\n",
       "      <td>t_id_AOWArhGb</td>\n",
       "      <td>train</td>\n",
       "    </tr>\n",
       "    <tr>\n",
       "      <th>697</th>\n",
       "      <td>ID_DBYS9YUA</td>\n",
       "      <td>right</td>\n",
       "      <td>t_id_uJXT7dGu</td>\n",
       "      <td>train</td>\n",
       "    </tr>\n",
       "    <tr>\n",
       "      <th>165</th>\n",
       "      <td>ID_XAO3YF62</td>\n",
       "      <td>top</td>\n",
       "      <td>t_id_D0gA44av</td>\n",
       "      <td>train</td>\n",
       "    </tr>\n",
       "    <tr>\n",
       "      <th>52</th>\n",
       "      <td>ID_P7LXRA4M</td>\n",
       "      <td>left</td>\n",
       "      <td>t_id_4XiPKIk7</td>\n",
       "      <td>train</td>\n",
       "    </tr>\n",
       "    <tr>\n",
       "      <th>6</th>\n",
       "      <td>ID_8VXV1HDO</td>\n",
       "      <td>top</td>\n",
       "      <td>t_id_hRzOoJ2t</td>\n",
       "      <td>train</td>\n",
       "    </tr>\n",
       "  </tbody>\n",
       "</table>\n",
       "<p>1716 rows × 4 columns</p>\n",
       "</div>"
      ],
      "text/plain": [
       "         image_id image_location      turtle_id   type\n",
       "708   ID_UC0NFKIH           left  t_id_UVQa4BMz  train\n",
       "59    ID_IZB1O90H          right  t_id_2QmcRkNj  train\n",
       "614   ID_L4O6H0WC            top  t_id_8b8sprYe  train\n",
       "2011  ID_BUYIHPE9           left  t_id_tjWepji1  train\n",
       "761   ID_2HBGMZLT          right  t_id_BI99coHt  train\n",
       "...           ...            ...            ...    ...\n",
       "1126  ID_3JHL0XDW           left  t_id_AOWArhGb  train\n",
       "697   ID_DBYS9YUA          right  t_id_uJXT7dGu  train\n",
       "165   ID_XAO3YF62            top  t_id_D0gA44av  train\n",
       "52    ID_P7LXRA4M           left  t_id_4XiPKIk7  train\n",
       "6     ID_8VXV1HDO            top  t_id_hRzOoJ2t  train\n",
       "\n",
       "[1716 rows x 4 columns]"
      ]
     },
     "execution_count": 14,
     "metadata": {},
     "output_type": "execute_result"
    }
   ],
   "source": [
    "train_ds"
   ]
  },
  {
   "cell_type": "code",
   "execution_count": 15,
   "metadata": {
    "id": "1LBlW_K1_fOD"
   },
   "outputs": [],
   "source": [
    "dataset = pd.concat([train_ds,test_ds,val_ds], axis=0)"
   ]
  },
  {
   "cell_type": "code",
   "execution_count": 16,
   "metadata": {
    "colab": {
     "base_uri": "https://localhost:8080/",
     "height": 423
    },
    "id": "prucJ_Ct_wDn",
    "outputId": "780dfb3d-7499-4070-f0d3-97815bf5d9f9"
   },
   "outputs": [
    {
     "data": {
      "text/html": [
       "<div>\n",
       "<style scoped>\n",
       "    .dataframe tbody tr th:only-of-type {\n",
       "        vertical-align: middle;\n",
       "    }\n",
       "\n",
       "    .dataframe tbody tr th {\n",
       "        vertical-align: top;\n",
       "    }\n",
       "\n",
       "    .dataframe thead th {\n",
       "        text-align: right;\n",
       "    }\n",
       "</style>\n",
       "<table border=\"1\" class=\"dataframe\">\n",
       "  <thead>\n",
       "    <tr style=\"text-align: right;\">\n",
       "      <th></th>\n",
       "      <th>image_id</th>\n",
       "      <th>image_location</th>\n",
       "      <th>turtle_id</th>\n",
       "      <th>type</th>\n",
       "    </tr>\n",
       "  </thead>\n",
       "  <tbody>\n",
       "    <tr>\n",
       "      <th>708</th>\n",
       "      <td>ID_UC0NFKIH</td>\n",
       "      <td>left</td>\n",
       "      <td>t_id_UVQa4BMz</td>\n",
       "      <td>train</td>\n",
       "    </tr>\n",
       "    <tr>\n",
       "      <th>59</th>\n",
       "      <td>ID_IZB1O90H</td>\n",
       "      <td>right</td>\n",
       "      <td>t_id_2QmcRkNj</td>\n",
       "      <td>train</td>\n",
       "    </tr>\n",
       "    <tr>\n",
       "      <th>614</th>\n",
       "      <td>ID_L4O6H0WC</td>\n",
       "      <td>top</td>\n",
       "      <td>t_id_8b8sprYe</td>\n",
       "      <td>train</td>\n",
       "    </tr>\n",
       "    <tr>\n",
       "      <th>2011</th>\n",
       "      <td>ID_BUYIHPE9</td>\n",
       "      <td>left</td>\n",
       "      <td>t_id_tjWepji1</td>\n",
       "      <td>train</td>\n",
       "    </tr>\n",
       "    <tr>\n",
       "      <th>761</th>\n",
       "      <td>ID_2HBGMZLT</td>\n",
       "      <td>right</td>\n",
       "      <td>t_id_BI99coHt</td>\n",
       "      <td>train</td>\n",
       "    </tr>\n",
       "    <tr>\n",
       "      <th>...</th>\n",
       "      <td>...</td>\n",
       "      <td>...</td>\n",
       "      <td>...</td>\n",
       "      <td>...</td>\n",
       "    </tr>\n",
       "    <tr>\n",
       "      <th>1460</th>\n",
       "      <td>ID_TTABJPWV</td>\n",
       "      <td>top</td>\n",
       "      <td>t_id_AOWArhGb</td>\n",
       "      <td>val</td>\n",
       "    </tr>\n",
       "    <tr>\n",
       "      <th>762</th>\n",
       "      <td>ID_I9VYL0O6</td>\n",
       "      <td>top</td>\n",
       "      <td>t_id_p77GDtzg</td>\n",
       "      <td>val</td>\n",
       "    </tr>\n",
       "    <tr>\n",
       "      <th>2105</th>\n",
       "      <td>ID_SC9XGO7W</td>\n",
       "      <td>top</td>\n",
       "      <td>t_id_e9i3Lbq4</td>\n",
       "      <td>val</td>\n",
       "    </tr>\n",
       "    <tr>\n",
       "      <th>618</th>\n",
       "      <td>ID_QDJ0DNWU</td>\n",
       "      <td>top</td>\n",
       "      <td>t_id_fjHGjp1w</td>\n",
       "      <td>val</td>\n",
       "    </tr>\n",
       "    <tr>\n",
       "      <th>275</th>\n",
       "      <td>ID_QNS796W6</td>\n",
       "      <td>left</td>\n",
       "      <td>t_id_MwnEYfqe</td>\n",
       "      <td>val</td>\n",
       "    </tr>\n",
       "  </tbody>\n",
       "</table>\n",
       "<p>2145 rows × 4 columns</p>\n",
       "</div>"
      ],
      "text/plain": [
       "         image_id image_location      turtle_id   type\n",
       "708   ID_UC0NFKIH           left  t_id_UVQa4BMz  train\n",
       "59    ID_IZB1O90H          right  t_id_2QmcRkNj  train\n",
       "614   ID_L4O6H0WC            top  t_id_8b8sprYe  train\n",
       "2011  ID_BUYIHPE9           left  t_id_tjWepji1  train\n",
       "761   ID_2HBGMZLT          right  t_id_BI99coHt  train\n",
       "...           ...            ...            ...    ...\n",
       "1460  ID_TTABJPWV            top  t_id_AOWArhGb    val\n",
       "762   ID_I9VYL0O6            top  t_id_p77GDtzg    val\n",
       "2105  ID_SC9XGO7W            top  t_id_e9i3Lbq4    val\n",
       "618   ID_QDJ0DNWU            top  t_id_fjHGjp1w    val\n",
       "275   ID_QNS796W6           left  t_id_MwnEYfqe    val\n",
       "\n",
       "[2145 rows x 4 columns]"
      ]
     },
     "execution_count": 16,
     "metadata": {},
     "output_type": "execute_result"
    }
   ],
   "source": [
    "dataset"
   ]
  },
  {
   "cell_type": "code",
   "execution_count": 17,
   "metadata": {
    "id": "Xv1uasWbAEcZ"
   },
   "outputs": [],
   "source": [
    "dataset['image_id'] = IMAGE_DIR + \"/\" + dataset['image_id'].astype(str) + \".JPG\""
   ]
  },
  {
   "cell_type": "markdown",
   "metadata": {
    "id": "DPaVsAr4LZm5"
   },
   "source": [
    "Replacing the turtle IDs with numbers for easier training by the deep learning model"
   ]
  },
  {
   "cell_type": "code",
   "execution_count": 18,
   "metadata": {
    "id": "l99rkFbytN-n"
   },
   "outputs": [],
   "source": [
    "dataset['turtle_id'] = dataset['turtle_id'].map(classes)"
   ]
  },
  {
   "cell_type": "code",
   "execution_count": 19,
   "metadata": {
    "id": "0E1kopnqZSCC"
   },
   "outputs": [],
   "source": [
    "dataset.to_csv('./dataset.csv')"
   ]
  },
  {
   "cell_type": "code",
   "execution_count": 20,
   "metadata": {
    "id": "NIoMcNXwAYuZ"
   },
   "outputs": [],
   "source": [
    "train_ds = dataset.loc[dataset['type'] == \"train\"]\n",
    "test_ds = dataset.loc[dataset['type'] == \"test\"]\n",
    "val_ds = dataset.loc[dataset['type'] == \"val\"]"
   ]
  },
  {
   "cell_type": "code",
   "execution_count": 21,
   "metadata": {
    "colab": {
     "base_uri": "https://localhost:8080/",
     "height": 423
    },
    "id": "5awhf_IrAx1-",
    "outputId": "be909405-91a3-44af-b3fc-25e823a52d21"
   },
   "outputs": [
    {
     "data": {
      "text/html": [
       "<div>\n",
       "<style scoped>\n",
       "    .dataframe tbody tr th:only-of-type {\n",
       "        vertical-align: middle;\n",
       "    }\n",
       "\n",
       "    .dataframe tbody tr th {\n",
       "        vertical-align: top;\n",
       "    }\n",
       "\n",
       "    .dataframe thead th {\n",
       "        text-align: right;\n",
       "    }\n",
       "</style>\n",
       "<table border=\"1\" class=\"dataframe\">\n",
       "  <thead>\n",
       "    <tr style=\"text-align: right;\">\n",
       "      <th></th>\n",
       "      <th>image_id</th>\n",
       "      <th>image_location</th>\n",
       "      <th>turtle_id</th>\n",
       "      <th>type</th>\n",
       "    </tr>\n",
       "  </thead>\n",
       "  <tbody>\n",
       "    <tr>\n",
       "      <th>708</th>\n",
       "      <td>./turtle_recall/images/ID_UC0NFKIH.JPG</td>\n",
       "      <td>left</td>\n",
       "      <td>37</td>\n",
       "      <td>train</td>\n",
       "    </tr>\n",
       "    <tr>\n",
       "      <th>59</th>\n",
       "      <td>./turtle_recall/images/ID_IZB1O90H.JPG</td>\n",
       "      <td>right</td>\n",
       "      <td>44</td>\n",
       "      <td>train</td>\n",
       "    </tr>\n",
       "    <tr>\n",
       "      <th>614</th>\n",
       "      <td>./turtle_recall/images/ID_L4O6H0WC.JPG</td>\n",
       "      <td>top</td>\n",
       "      <td>43</td>\n",
       "      <td>train</td>\n",
       "    </tr>\n",
       "    <tr>\n",
       "      <th>2011</th>\n",
       "      <td>./turtle_recall/images/ID_BUYIHPE9.JPG</td>\n",
       "      <td>left</td>\n",
       "      <td>38</td>\n",
       "      <td>train</td>\n",
       "    </tr>\n",
       "    <tr>\n",
       "      <th>761</th>\n",
       "      <td>./turtle_recall/images/ID_2HBGMZLT.JPG</td>\n",
       "      <td>right</td>\n",
       "      <td>23</td>\n",
       "      <td>train</td>\n",
       "    </tr>\n",
       "    <tr>\n",
       "      <th>...</th>\n",
       "      <td>...</td>\n",
       "      <td>...</td>\n",
       "      <td>...</td>\n",
       "      <td>...</td>\n",
       "    </tr>\n",
       "    <tr>\n",
       "      <th>1126</th>\n",
       "      <td>./turtle_recall/images/ID_3JHL0XDW.JPG</td>\n",
       "      <td>left</td>\n",
       "      <td>25</td>\n",
       "      <td>train</td>\n",
       "    </tr>\n",
       "    <tr>\n",
       "      <th>697</th>\n",
       "      <td>./turtle_recall/images/ID_DBYS9YUA.JPG</td>\n",
       "      <td>right</td>\n",
       "      <td>54</td>\n",
       "      <td>train</td>\n",
       "    </tr>\n",
       "    <tr>\n",
       "      <th>165</th>\n",
       "      <td>./turtle_recall/images/ID_XAO3YF62.JPG</td>\n",
       "      <td>top</td>\n",
       "      <td>63</td>\n",
       "      <td>train</td>\n",
       "    </tr>\n",
       "    <tr>\n",
       "      <th>52</th>\n",
       "      <td>./turtle_recall/images/ID_P7LXRA4M.JPG</td>\n",
       "      <td>left</td>\n",
       "      <td>26</td>\n",
       "      <td>train</td>\n",
       "    </tr>\n",
       "    <tr>\n",
       "      <th>6</th>\n",
       "      <td>./turtle_recall/images/ID_8VXV1HDO.JPG</td>\n",
       "      <td>top</td>\n",
       "      <td>6</td>\n",
       "      <td>train</td>\n",
       "    </tr>\n",
       "  </tbody>\n",
       "</table>\n",
       "<p>1716 rows × 4 columns</p>\n",
       "</div>"
      ],
      "text/plain": [
       "                                    image_id image_location  turtle_id   type\n",
       "708   ./turtle_recall/images/ID_UC0NFKIH.JPG           left         37  train\n",
       "59    ./turtle_recall/images/ID_IZB1O90H.JPG          right         44  train\n",
       "614   ./turtle_recall/images/ID_L4O6H0WC.JPG            top         43  train\n",
       "2011  ./turtle_recall/images/ID_BUYIHPE9.JPG           left         38  train\n",
       "761   ./turtle_recall/images/ID_2HBGMZLT.JPG          right         23  train\n",
       "...                                      ...            ...        ...    ...\n",
       "1126  ./turtle_recall/images/ID_3JHL0XDW.JPG           left         25  train\n",
       "697   ./turtle_recall/images/ID_DBYS9YUA.JPG          right         54  train\n",
       "165   ./turtle_recall/images/ID_XAO3YF62.JPG            top         63  train\n",
       "52    ./turtle_recall/images/ID_P7LXRA4M.JPG           left         26  train\n",
       "6     ./turtle_recall/images/ID_8VXV1HDO.JPG            top          6  train\n",
       "\n",
       "[1716 rows x 4 columns]"
      ]
     },
     "execution_count": 21,
     "metadata": {},
     "output_type": "execute_result"
    }
   ],
   "source": [
    "train_ds"
   ]
  },
  {
   "cell_type": "markdown",
   "metadata": {
    "id": "JET34lPoLhYY"
   },
   "source": [
    "Creating a Dataloader for our dataset which can be used for pytorch. This only makes use of the image data and the turtle ID. The turtles head orientation is not used"
   ]
  },
  {
   "cell_type": "code",
   "execution_count": 22,
   "metadata": {
    "id": "4585evc5PSr9"
   },
   "outputs": [],
   "source": [
    "class TurtleDataset(Dataset):\n",
    "    \"\"\"Turtle dataset.\"\"\"\n",
    "\n",
    "    def __init__(self, csv_file, transform=None):\n",
    "        \"\"\"\n",
    "        Args:\n",
    "            csv_file (string): Path to the csv file with annotations.\n",
    "            root_dir (string): Directory with all the images.\n",
    "            transform (callable, optional): Optional transform to be applied\n",
    "                on a sample.\n",
    "        \"\"\"\n",
    "        self.csv = csv_file\n",
    "        self.transform = transform\n",
    "\n",
    "    def __len__(self):\n",
    "        return len(self.csv)\n",
    "\n",
    "    def __getitem__(self, idx):\n",
    "        if torch.is_tensor(idx):\n",
    "            idx = idx.tolist()\n",
    "\n",
    "        img_name = self.csv.iloc[idx, 0]\n",
    "        image = io_temp.imread(img_name)\n",
    "        details = self.csv.iloc[idx, 1:]\n",
    "        details = np.array([details])\n",
    "        details = details[:1]\n",
    "        sample = {'image': image, 'image_orientation': details[0][0], 'turtle_id': details[0][1]}\n",
    "\n",
    "        if self.transform:\n",
    "            sample = self.transform(sample)\n",
    "\n",
    "        return sample"
   ]
  },
  {
   "cell_type": "code",
   "execution_count": 23,
   "metadata": {
    "id": "PLXnh8E9RbHE"
   },
   "outputs": [],
   "source": [
    "def show_pics(image, image_orientation, turtle_id):\n",
    "    plt.imshow(image)\n",
    "    plt.pause(0.001)  # pause a bit so that plots are updated\n"
   ]
  },
  {
   "cell_type": "code",
   "execution_count": 25,
   "metadata": {},
   "outputs": [],
   "source": [
    "train_ds = train_ds.iloc[:10]"
   ]
  },
  {
   "cell_type": "code",
   "execution_count": 26,
   "metadata": {
    "colab": {
     "base_uri": "https://localhost:8080/",
     "height": 465
    },
    "id": "AhW-n5mmP1ng",
    "outputId": "4a8339cf-5340-4d11-efb0-d638b554218d"
   },
   "outputs": [
    {
     "name": "stdout",
     "output_type": "stream",
     "text": [
      "0 (743, 876, 3) 37\n"
     ]
    },
    {
     "data": {
      "image/png": "[encoded data removed]",
      "text/plain": [
       "<Figure size 432x288 with 1 Axes>"
      ]
     },
     "metadata": {
      "needs_background": "light"
     },
     "output_type": "display_data"
    },
    {
     "name": "stdout",
     "output_type": "stream",
     "text": [
      "1 (1457, 1476, 3) 44\n"
     ]
    },
    {
     "data": {
      "image/png": "[encoded data removed]",
      "text/plain": [
       "<Figure size 432x288 with 1 Axes>"
      ]
     },
     "metadata": {
      "needs_background": "light"
     },
     "output_type": "display_data"
    },
    {
     "name": "stdout",
     "output_type": "stream",
     "text": [
      "2 (291, 400, 3) 43\n"
     ]
    },
    {
     "data": {
      "image/png": "[encoded data removed]",
      "text/plain": [
       "<Figure size 432x288 with 1 Axes>"
      ]
     },
     "metadata": {
      "needs_background": "light"
     },
     "output_type": "display_data"
    },
    {
     "name": "stdout",
     "output_type": "stream",
     "text": [
      "3 (708, 930, 3) 38\n"
     ]
    },
    {
     "data": {
      "image/png": "[encoded data removed]",
      "text/plain": [
       "<Figure size 432x288 with 1 Axes>"
      ]
     },
     "metadata": {
      "needs_background": "light"
     },
     "output_type": "display_data"
    }
   ],
   "source": [
    "face_dataset = TurtleDataset(csv_file=train_ds)\n",
    "\n",
    "fig = plt.figure()\n",
    "\n",
    "for i in range(len(face_dataset)):\n",
    "    sample = face_dataset[i]\n",
    "\n",
    "    print(i, sample['image'].shape, sample['turtle_id'])\n",
    "\n",
    "    ax = plt.subplot(1, 4, i + 1)\n",
    "    plt.tight_layout()\n",
    "    ax.set_title('Sample #{}'.format(i))\n",
    "    ax.axis('off')\n",
    "    show_pics(**sample)\n",
    "\n",
    "    if i == 3:\n",
    "        plt.show()\n",
    "        break"
   ]
  },
  {
   "cell_type": "markdown",
   "metadata": {
    "id": "0lH42myNLtbc"
   },
   "source": [
    "Rescale helps reformat the image by changing its dimensions and cropping it to allow it to be used as an input in our model"
   ]
  },
  {
   "cell_type": "code",
   "execution_count": 27,
   "metadata": {},
   "outputs": [],
   "source": [
    "def get_sobel_kernel(k=3):\n",
    "    # get range\n",
    "    range = np.linspace(-(k // 2), k // 2, k)\n",
    "    # compute a grid the numerator and the axis-distances\n",
    "    x, y = np.meshgrid(range, range)\n",
    "    sobel_2D_numerator = x\n",
    "    sobel_2D_denominator = (x ** 2 + y ** 2)\n",
    "    sobel_2D_denominator[:, k // 2] = 1  # avoid division by zero\n",
    "    sobel_2D = sobel_2D_numerator / sobel_2D_denominator\n",
    "    return sobel_2D"
   ]
  },
  {
   "cell_type": "code",
   "execution_count": 28,
   "metadata": {},
   "outputs": [],
   "source": [
    "import cv2"
   ]
  },
  {
   "cell_type": "code",
   "execution_count": 42,
   "metadata": {
    "id": "QNDcMnZDbaWo"
   },
   "outputs": [],
   "source": [
    "class Rescale(object):\n",
    "    \"\"\"Rescale the image in a sample to a given size.\n",
    "\n",
    "    Args:\n",
    "        output_size (tuple or int): Desired output size. If tuple, output is\n",
    "            matched to output_size. If int, smaller of image edges is matched\n",
    "            to output_size keeping aspect ratio the same.\n",
    "    \"\"\"\n",
    "\n",
    "    def __init__(self, output_size = 224):\n",
    "        assert isinstance(output_size, (int, tuple))\n",
    "        self.output_size = output_size\n",
    "#         sobel_2D = get_sobel_kernel(3)\n",
    "#         self.sobel_filter_x = nn.Conv2d(in_channels=3,\n",
    "#                                         out_channels=1,\n",
    "#                                         kernel_size=3,\n",
    "#                                         padding=3 // 2,\n",
    "#                                         bias=False)\n",
    "#         self.sobel_filter_x.weight[:] = torch.from_numpy(sobel_2D)\n",
    "\n",
    "    def __call__(self, sample):\n",
    "        image, turtle_id = sample['image'], sample['turtle_id'] # , sample['image_orientation']\n",
    "        h, w = image.shape[:2]\n",
    "        crop_size = min(w, h)\n",
    "        crop = image[(h - crop_size) // 2 : (h + crop_size) // 2, (w - crop_size) // 2 : (w + crop_size) // 2]\n",
    "        img = resize(crop, (self.output_size, self.output_size))\n",
    "#         img_blur = cv2.GaussianBlur(img, (3,3), 0)\n",
    "        img = cv2.Sobel(src=img, ddepth=cv2.CV_64F, dx=1, dy=0, ksize=5) * 0.5\n",
    "        return [img.transpose((2,0,1)).astype(np.double),turtle_id]"
   ]
  },
  {
   "cell_type": "code",
   "execution_count": 43,
   "metadata": {},
   "outputs": [],
   "source": [
    "# class Rescale(object):\n",
    "#     \"\"\"Rescale the image in a sample to a given size.\n",
    "\n",
    "#     Args:\n",
    "#         output_size (tuple or int): Desired output size. If tuple, output is\n",
    "#             matched to output_size. If int, smaller of image edges is matched\n",
    "#             to output_size keeping aspect ratio the same.\n",
    "#     \"\"\"\n",
    "\n",
    "#     def __init__(self, output_size = 224):\n",
    "#         assert isinstance(output_size, (int, tuple))\n",
    "#         self.output_size = output_size\n",
    "#         self.randomrotate = torchvision.transforms.RandomRotation(0)\n",
    "#         self.greyscale =  torchvision.transforms.Grayscale(num_output_channels=1)\n",
    "\n",
    "#     def __call__(self, sample):\n",
    "#         image, turtle_id = sample['image'], sample['turtle_id'] # , sample['image_orientation']\n",
    "#         image = self.randomrotate(Image.fromarray(image))\n",
    "#         image = np.array(self.greyscale(image))\n",
    "#         h, w = image.shape[:2]\n",
    "#         crop_size = min(w, h)\n",
    "#         if crop_size == h:\n",
    "#             print(w,h)\n",
    "#             print(256, int((256*h)/crop_size))\n",
    "#             img = resize(image, (256, int((256*h)/crop_size)))\n",
    "#         else:\n",
    "#             img = resize(image, (int((w*256)/crop_size), 256))\n",
    "#         img  = np.zeros((self.output_size,self.output_size)) + img\n",
    "#         img = np.array([img] * 3)\n",
    "# #         return [img.transpose((2,0,1)).astype(np.double),turtle_id]\n",
    "#         return [img.astype(np.double),turtle_id]"
   ]
  },
  {
   "cell_type": "code",
   "execution_count": 44,
   "metadata": {
    "id": "p9_xZtOxgiN7"
   },
   "outputs": [],
   "source": [
    "train_transformed_dataset = TurtleDataset(csv_file=train_ds,\n",
    "                                               transform=transforms.Compose([\n",
    "                                               Rescale(256)\n",
    "                                           ]))\n",
    "test_transformed_dataset = TurtleDataset(csv_file=test_ds,\n",
    "                                               transform=transforms.Compose([\n",
    "                                               Rescale(256)\n",
    "                                           ]))\n",
    "val_transformed_dataset = TurtleDataset(csv_file=val_ds,\n",
    "                                               transform=transforms.Compose([\n",
    "                                               Rescale(256)\n",
    "                                           ]))"
   ]
  },
  {
   "cell_type": "code",
   "execution_count": 45,
   "metadata": {
    "id": "f3wuRDMeg7lm"
   },
   "outputs": [],
   "source": [
    "dataloaders = {'train' : DataLoader(train_transformed_dataset, batch_size=16,\n",
    "                        shuffle=True, num_workers=2),\n",
    "              'test' : DataLoader(test_transformed_dataset, batch_size=16,\n",
    "                        shuffle=True, num_workers=2),\n",
    "              'val' : DataLoader(val_transformed_dataset, batch_size=16,\n",
    "                        shuffle=True, num_workers=2)}"
   ]
  },
  {
   "cell_type": "code",
   "execution_count": 46,
   "metadata": {
    "colab": {
     "base_uri": "https://localhost:8080/",
     "height": 148
    },
    "id": "pm-kCmbVwcbe",
    "outputId": "bac49fb9-534a-4dd5-d8de-9c7fc7d80303"
   },
   "outputs": [
    {
     "data": {
      "image/png": "[encoded data removed]",
      "text/plain": [
       "<Figure size 432x288 with 1 Axes>"
      ]
     },
     "metadata": {
      "needs_background": "light"
     },
     "output_type": "display_data"
    }
   ],
   "source": [
    "def imshow(inp, title=None):\n",
    "    \"\"\"Imshow for Tensor.\"\"\"\n",
    "    inp = inp.numpy().transpose((1, 2, 0))\n",
    "#     mean = np.array([0.485, 0.456, 0.406])\n",
    "#     std = np.array([0.229, 0.224, 0.225])\n",
    "#     inp = std * inp + mean\n",
    "    inp = np.clip(inp, 0, 1)\n",
    "    plt.imshow(inp)\n",
    "    if title is not None:\n",
    "        plt.title(title)\n",
    "    plt.pause(0.001)  # pause a bit so that plots are updated\n",
    "\n",
    "\n",
    "# Get a batch of training data\n",
    "inputs, classes = next(iter(dataloaders['train']))\n",
    "\n",
    "# Make a grid from batch\n",
    "out = torchvision.utils.make_grid(inputs[0])\n",
    "\n",
    "imshow(inputs[6], title=classes)"
   ]
  },
  {
   "cell_type": "markdown",
   "metadata": {
    "id": "RdDxDGF2L-Vk"
   },
   "source": [
    "train_model is a funciton to train any model with any criterion and optimizer. We can change the model input with other pretrained models to experiment further!"
   ]
  },
  {
   "cell_type": "code",
   "execution_count": 32,
   "metadata": {
    "id": "20kaKUCABb4K"
   },
   "outputs": [],
   "source": [
    "def train_model(model, criterion, optimizer, scheduler, num_epochs=25):\n",
    "    since = time.time()\n",
    "\n",
    "    best_model_wts = copy.deepcopy(model.state_dict())\n",
    "    best_acc = 0.0\n",
    "\n",
    "    for epoch in range(num_epochs):\n",
    "        print('Epoch {}/{}'.format(epoch, num_epochs - 1))\n",
    "        print('-' * 10)\n",
    "\n",
    "        # Each epoch has a training and validation phase\n",
    "        for phase in ['train', 'val']:\n",
    "            if phase == 'train':\n",
    "                model.train()  # Set model to training mode\n",
    "            else:\n",
    "                model.eval()   # Set model to evaluate mode\n",
    "\n",
    "            running_loss = 0.0\n",
    "            running_corrects = 0\n",
    "\n",
    "            # Iterate over data.\n",
    "            for inputs, labels in dataloaders[phase]:\n",
    "                # inputs = inputs.type(torch.DoubleTensor)\n",
    "                inputs = inputs.to(device)\n",
    "                labels = labels.to(device)\n",
    "\n",
    "                # zero the parameter gradients\n",
    "                optimizer.zero_grad()\n",
    "\n",
    "                # forward\n",
    "                # track history if only in train\n",
    "                with torch.set_grad_enabled(phase == 'train'):\n",
    "                    outputs = model(inputs.float())\n",
    "                    _, preds = torch.max(outputs, 1)\n",
    "                    loss = criterion(outputs, labels)\n",
    "\n",
    "                    # backward + optimize only if in training phase\n",
    "                    if phase == 'train':\n",
    "                        loss.backward()\n",
    "                        optimizer.step()\n",
    "\n",
    "                # statistics\n",
    "                running_loss += loss.item() * inputs.size(0)\n",
    "                running_corrects += torch.sum(preds == labels.data)\n",
    "            if phase == 'train':\n",
    "                scheduler.step()\n",
    "\n",
    "            epoch_loss = running_loss / dataset_sizes[phase]\n",
    "            epoch_acc = running_corrects.double() / dataset_sizes[phase]\n",
    "\n",
    "            print('{} Loss: {:.4f} Acc: {:.4f}'.format(\n",
    "                phase, epoch_loss, epoch_acc))\n",
    "\n",
    "            # deep copy the model\n",
    "            if phase == 'val' and epoch_acc > best_acc:\n",
    "                best_acc = epoch_acc\n",
    "                best_model_wts = copy.deepcopy(model.state_dict())\n",
    "\n",
    "        print()\n",
    "\n",
    "    time_elapsed = time.time() - since\n",
    "    print('Training complete in {:.0f}m {:.0f}s'.format(\n",
    "        time_elapsed // 60, time_elapsed % 60))\n",
    "    print('Best val Acc: {:4f}'.format(best_acc))\n",
    "\n",
    "    # load best model weights\n",
    "    model.load_state_dict(best_model_wts)\n",
    "    return model"
   ]
  },
  {
   "cell_type": "code",
   "execution_count": 33,
   "metadata": {
    "id": "VypSd5Lqt9Ol"
   },
   "outputs": [],
   "source": [
    "def visualize_model(model, num_images=6):\n",
    "    was_training = model.training\n",
    "    model.eval()\n",
    "    images_so_far = 0\n",
    "    fig = plt.figure()\n",
    "\n",
    "    with torch.no_grad():\n",
    "        for i, (inputs, labels) in enumerate(dataloaders['val']):\n",
    "            inputs = inputs.to(device)\n",
    "            labels = labels.to(device)\n",
    "\n",
    "            outputs = model(inputs.float())\n",
    "            _, preds = torch.max(outputs, 1)\n",
    "\n",
    "            for j in range(inputs.size()[0]):\n",
    "                images_so_far += 1\n",
    "                ax = plt.subplot(num_images//2, 2, images_so_far)\n",
    "                ax.axis('off')\n",
    "                ax.set_title('predicted: {}'.format(class_names[preds[j]]))\n",
    "                imshow(inputs.cpu().data[j])\n",
    "\n",
    "                if images_so_far == num_images:\n",
    "                    model.train(mode=was_training)\n",
    "                    return\n",
    "        model.train(mode=was_training)"
   ]
  },
  {
   "cell_type": "code",
   "execution_count": 34,
   "metadata": {
    "id": "PlBjxA7uuJ3_"
   },
   "outputs": [],
   "source": [
    "device = torch.device(\"cuda:0\" if torch.cuda.is_available() else \"cpu\")"
   ]
  },
  {
   "cell_type": "code",
   "execution_count": null,
   "metadata": {},
   "outputs": [],
   "source": []
  },
  {
   "cell_type": "code",
   "execution_count": 35,
   "metadata": {
    "id": "qPizP55RuCm1"
   },
   "outputs": [],
   "source": [
    "model_ft = models.resnet18(pretrained=True) ### Can change this to try out other models available \n",
    "num_ftrs = model_ft.fc.in_features\n",
    "# Here the size of each output sample is set to 2.\n",
    "# Alternatively, it can be generalized to nn.Linear(num_ftrs, len(class_names)).\n",
    "model_ft.fc = nn.Linear(num_ftrs, num_classes)\n",
    "\n",
    "model_ft = model_ft.to(device)\n",
    "\n",
    "criterion = nn.CrossEntropyLoss()\n",
    "\n",
    "# Observe that all parameters are being optimized\n",
    "optimizer_ft = optim.SGD(model_ft.parameters(), lr=0.001, momentum=0.9)\n",
    "\n",
    "# Decay LR by a factor of 0.1 every 7 epochs\n",
    "exp_lr_scheduler = lr_scheduler.StepLR(optimizer_ft, step_size=7, gamma=0.1)"
   ]
  },
  {
   "cell_type": "markdown",
   "metadata": {},
   "source": [
    "Image + edge 20 epoch pretrained"
   ]
  },
  {
   "cell_type": "code",
   "execution_count": 36,
   "metadata": {
    "colab": {
     "base_uri": "https://localhost:8080/"
    },
    "id": "hgZ4VxxCuP8C",
    "outputId": "4f4cf0de-fbf3-4302-f95b-6da7fe1452b6",
    "scrolled": true
   },
   "outputs": [
    {
     "name": "stdout",
     "output_type": "stream",
     "text": [
      "Epoch 0/19\n",
      "----------\n",
      "train Loss: 4.5209 Acc: 0.0315\n",
      "val Loss: 4.3356 Acc: 0.0558\n",
      "\n",
      "Epoch 1/19\n",
      "----------\n",
      "train Loss: 3.9403 Acc: 0.1317\n",
      "val Loss: 4.1201 Acc: 0.0744\n",
      "\n",
      "Epoch 2/19\n",
      "----------\n",
      "train Loss: 3.3285 Acc: 0.2803\n",
      "val Loss: 3.9199 Acc: 0.1209\n",
      "\n",
      "Epoch 3/19\n",
      "----------\n",
      "train Loss: 2.7413 Acc: 0.4522\n",
      "val Loss: 3.7151 Acc: 0.1349\n",
      "\n",
      "Epoch 4/19\n",
      "----------\n",
      "train Loss: 2.1177 Acc: 0.6480\n",
      "val Loss: 3.5518 Acc: 0.1674\n",
      "\n",
      "Epoch 5/19\n",
      "----------\n",
      "train Loss: 1.5980 Acc: 0.8298\n",
      "val Loss: 3.4655 Acc: 0.1907\n",
      "\n",
      "Epoch 6/19\n",
      "----------\n",
      "train Loss: 1.1658 Acc: 0.9237\n",
      "val Loss: 3.3706 Acc: 0.2093\n",
      "\n",
      "Epoch 7/19\n",
      "----------\n",
      "train Loss: 0.8093 Acc: 0.9802\n",
      "val Loss: 3.3669 Acc: 0.2047\n",
      "\n",
      "Epoch 8/19\n",
      "----------\n",
      "train Loss: 0.7715 Acc: 0.9883\n",
      "val Loss: 3.3375 Acc: 0.2279\n",
      "\n",
      "Epoch 9/19\n",
      "----------\n",
      "train Loss: 0.7340 Acc: 0.9895\n",
      "val Loss: 3.3334 Acc: 0.2233\n",
      "\n",
      "Epoch 10/19\n",
      "----------\n",
      "train Loss: 0.7002 Acc: 0.9913\n",
      "val Loss: 3.3420 Acc: 0.2140\n",
      "\n",
      "Epoch 11/19\n",
      "----------\n",
      "train Loss: 0.6678 Acc: 0.9948\n",
      "val Loss: 3.3218 Acc: 0.2372\n",
      "\n",
      "Epoch 12/19\n",
      "----------\n",
      "train Loss: 0.6465 Acc: 0.9965\n",
      "val Loss: 3.3459 Acc: 0.2326\n",
      "\n",
      "Epoch 13/19\n",
      "----------\n",
      "train Loss: 0.6231 Acc: 0.9965\n",
      "val Loss: 3.3111 Acc: 0.2233\n",
      "\n",
      "Epoch 14/19\n",
      "----------\n",
      "train Loss: 0.6008 Acc: 0.9959\n",
      "val Loss: 3.3360 Acc: 0.2465\n",
      "\n",
      "Epoch 15/19\n",
      "----------\n",
      "train Loss: 0.6002 Acc: 0.9959\n",
      "val Loss: 3.3231 Acc: 0.2419\n",
      "\n",
      "Epoch 16/19\n",
      "----------\n",
      "train Loss: 0.5985 Acc: 0.9977\n",
      "val Loss: 3.3430 Acc: 0.2372\n",
      "\n",
      "Epoch 17/19\n",
      "----------\n",
      "train Loss: 0.5908 Acc: 0.9971\n",
      "val Loss: 3.3203 Acc: 0.2372\n",
      "\n",
      "Epoch 18/19\n",
      "----------\n",
      "train Loss: 0.5878 Acc: 0.9988\n",
      "val Loss: 3.3339 Acc: 0.2419\n",
      "\n",
      "Epoch 19/19\n",
      "----------\n",
      "train Loss: 0.5903 Acc: 0.9959\n",
      "val Loss: 3.3008 Acc: 0.2465\n",
      "\n",
      "Training complete in 67m 50s\n",
      "Best val Acc: 0.246512\n"
     ]
    }
   ],
   "source": [
    "# for i in range(5):\n",
    "model_ft = train_model(model_ft, criterion, optimizer_ft, exp_lr_scheduler,\n",
    "                           num_epochs=20)\n",
    "torch.save(model_ft.state_dict(),\"pretrained_img_plus_edge_resnet18.pth\")"
   ]
  },
  {
   "cell_type": "code",
   "execution_count": 36,
   "metadata": {},
   "outputs": [
    {
     "data": {
      "text/plain": [
       "Sequential(\n",
       "  (0): BasicBlock(\n",
       "    (conv1): Conv2d(256, 512, kernel_size=(3, 3), stride=(2, 2), padding=(1, 1), bias=False)\n",
       "    (bn1): BatchNorm2d(512, eps=1e-05, momentum=0.1, affine=True, track_running_stats=True)\n",
       "    (relu): ReLU(inplace=True)\n",
       "    (conv2): Conv2d(512, 512, kernel_size=(3, 3), stride=(1, 1), padding=(1, 1), bias=False)\n",
       "    (bn2): BatchNorm2d(512, eps=1e-05, momentum=0.1, affine=True, track_running_stats=True)\n",
       "    (downsample): Sequential(\n",
       "      (0): Conv2d(256, 512, kernel_size=(1, 1), stride=(2, 2), bias=False)\n",
       "      (1): BatchNorm2d(512, eps=1e-05, momentum=0.1, affine=True, track_running_stats=True)\n",
       "    )\n",
       "  )\n",
       "  (1): BasicBlock(\n",
       "    (conv1): Conv2d(512, 512, kernel_size=(3, 3), stride=(1, 1), padding=(1, 1), bias=False)\n",
       "    (bn1): BatchNorm2d(512, eps=1e-05, momentum=0.1, affine=True, track_running_stats=True)\n",
       "    (relu): ReLU(inplace=True)\n",
       "    (conv2): Conv2d(512, 512, kernel_size=(3, 3), stride=(1, 1), padding=(1, 1), bias=False)\n",
       "    (bn2): BatchNorm2d(512, eps=1e-05, momentum=0.1, affine=True, track_running_stats=True)\n",
       "  )\n",
       ")"
      ]
     },
     "execution_count": 36,
     "metadata": {},
     "output_type": "execute_result"
    }
   ],
   "source": [
    "model_ft.layer4"
   ]
  },
  {
   "cell_type": "code",
   "execution_count": null,
   "metadata": {},
   "outputs": [],
   "source": [
    "for param in model_ft.parameters():#.layer4.parameters():\n",
    "    print(param.requires_grad)"
   ]
  },
  {
   "cell_type": "code",
   "execution_count": 35,
   "metadata": {
    "id": "qPizP55RuCm1"
   },
   "outputs": [],
   "source": [
    "model_ft = models.resnet18(pretrained=True) ### Can change this to try out other models available \n",
    "num_ftrs = model_ft.fc.in_features\n",
    "# Here the size of each output sample is set to 2.\n",
    "# Alternatively, it can be generalized to nn.Linear(num_ftrs, len(class_names)).\n",
    "model_ft.fc = nn.Linear(num_ftrs, num_classes)\n",
    "\n",
    "model_ft = model_ft.to(device)\n",
    "\n",
    "criterion = nn.CrossEntropyLoss()\n",
    "\n",
    "# Observe that all parameters are being optimized\n",
    "optimizer_ft = optim.SGD(model_ft.parameters(), lr=0.001, momentum=0.9)\n",
    "\n",
    "# Decay LR by a factor of 0.1 every 7 epochs\n",
    "exp_lr_scheduler = lr_scheduler.StepLR(optimizer_ft, step_size=7, gamma=0.1)"
   ]
  },
  {
   "cell_type": "code",
   "execution_count": 127,
   "metadata": {
    "colab": {
     "base_uri": "https://localhost:8080/"
    },
    "id": "hgZ4VxxCuP8C",
    "outputId": "4f4cf0de-fbf3-4302-f95b-6da7fe1452b6",
    "scrolled": true
   },
   "outputs": [
    {
     "name": "stdout",
     "output_type": "stream",
     "text": [
      "Epoch 0/19\n",
      "----------\n",
      "train Loss: 4.5264 Acc: 0.0367\n",
      "val Loss: 4.3517 Acc: 0.0512\n",
      "\n",
      "Epoch 1/19\n",
      "----------\n",
      "train Loss: 3.9282 Acc: 0.1352\n",
      "val Loss: 4.1404 Acc: 0.0698\n",
      "\n",
      "Epoch 2/19\n",
      "----------\n",
      "train Loss: 3.3218 Acc: 0.2937\n",
      "val Loss: 3.9578 Acc: 0.1023\n",
      "\n",
      "Epoch 3/19\n",
      "----------\n",
      "train Loss: 2.7075 Acc: 0.4848\n",
      "val Loss: 3.7473 Acc: 0.1209\n",
      "\n",
      "Epoch 4/19\n",
      "----------\n",
      "train Loss: 2.1145 Acc: 0.6742\n",
      "val Loss: 3.6379 Acc: 0.1535\n",
      "\n",
      "Epoch 5/19\n",
      "----------\n",
      "train Loss: 1.5742 Acc: 0.8310\n",
      "val Loss: 3.5184 Acc: 0.1953\n",
      "\n",
      "Epoch 6/19\n",
      "----------\n",
      "train Loss: 1.1368 Acc: 0.9400\n",
      "val Loss: 3.4478 Acc: 0.2047\n",
      "\n",
      "Epoch 7/19\n",
      "----------\n",
      "train Loss: 0.7751 Acc: 0.9883\n",
      "val Loss: 3.4144 Acc: 0.2000\n",
      "\n",
      "Epoch 8/19\n",
      "----------\n",
      "train Loss: 0.7350 Acc: 0.9918\n",
      "val Loss: 3.4218 Acc: 0.2047\n",
      "\n",
      "Epoch 9/19\n",
      "----------\n"
     ]
    },
    {
     "ename": "KeyboardInterrupt",
     "evalue": "",
     "output_type": "error",
     "traceback": [
      "\u001b[0;31m---------------------------------------------------------------------------\u001b[0m",
      "\u001b[0;31mKeyboardInterrupt\u001b[0m                         Traceback (most recent call last)",
      "\u001b[0;32m<ipython-input-127-19c2614df92b>\u001b[0m in \u001b[0;36m<module>\u001b[0;34m\u001b[0m\n\u001b[1;32m      1\u001b[0m \u001b[0;31m# for i in range(5):\u001b[0m\u001b[0;34m\u001b[0m\u001b[0;34m\u001b[0m\u001b[0;34m\u001b[0m\u001b[0m\n\u001b[1;32m      2\u001b[0m model_ft = train_model(model_ft, criterion, optimizer_ft, exp_lr_scheduler,\n\u001b[0;32m----> 3\u001b[0;31m                            num_epochs=20)\n\u001b[0m\u001b[1;32m      4\u001b[0m \u001b[0mtorch\u001b[0m\u001b[0;34m.\u001b[0m\u001b[0msave\u001b[0m\u001b[0;34m(\u001b[0m\u001b[0mmodel_ft\u001b[0m\u001b[0;34m.\u001b[0m\u001b[0mstate_dict\u001b[0m\u001b[0;34m(\u001b[0m\u001b[0;34m)\u001b[0m\u001b[0;34m,\u001b[0m\u001b[0;34m\"pretrained_img_plus_edge_resnet18.pth\"\u001b[0m\u001b[0;34m)\u001b[0m\u001b[0;34m\u001b[0m\u001b[0;34m\u001b[0m\u001b[0m\n",
      "\u001b[0;32m<ipython-input-123-14cec6cd8eaa>\u001b[0m in \u001b[0;36mtrain_model\u001b[0;34m(model, criterion, optimizer, scheduler, num_epochs)\u001b[0m\n\u001b[1;32m     20\u001b[0m \u001b[0;34m\u001b[0m\u001b[0m\n\u001b[1;32m     21\u001b[0m             \u001b[0;31m# Iterate over data.\u001b[0m\u001b[0;34m\u001b[0m\u001b[0;34m\u001b[0m\u001b[0;34m\u001b[0m\u001b[0m\n\u001b[0;32m---> 22\u001b[0;31m             \u001b[0;32mfor\u001b[0m \u001b[0minputs\u001b[0m\u001b[0;34m,\u001b[0m \u001b[0mlabels\u001b[0m \u001b[0;32min\u001b[0m \u001b[0mdataloaders\u001b[0m\u001b[0;34m[\u001b[0m\u001b[0mphase\u001b[0m\u001b[0;34m]\u001b[0m\u001b[0;34m:\u001b[0m\u001b[0;34m\u001b[0m\u001b[0;34m\u001b[0m\u001b[0m\n\u001b[0m\u001b[1;32m     23\u001b[0m                 \u001b[0;31m# inputs = inputs.type(torch.DoubleTensor)\u001b[0m\u001b[0;34m\u001b[0m\u001b[0;34m\u001b[0m\u001b[0;34m\u001b[0m\u001b[0m\n\u001b[1;32m     24\u001b[0m                 \u001b[0minputs\u001b[0m \u001b[0;34m=\u001b[0m \u001b[0minputs\u001b[0m\u001b[0;34m.\u001b[0m\u001b[0mto\u001b[0m\u001b[0;34m(\u001b[0m\u001b[0mdevice\u001b[0m\u001b[0;34m)\u001b[0m\u001b[0;34m\u001b[0m\u001b[0;34m\u001b[0m\u001b[0m\n",
      "\u001b[0;32m/opt/conda/lib/python3.6/site-packages/torch/utils/data/dataloader.py\u001b[0m in \u001b[0;36m__next__\u001b[0;34m(self)\u001b[0m\n\u001b[1;32m    343\u001b[0m \u001b[0;34m\u001b[0m\u001b[0m\n\u001b[1;32m    344\u001b[0m     \u001b[0;32mdef\u001b[0m \u001b[0m__next__\u001b[0m\u001b[0;34m(\u001b[0m\u001b[0mself\u001b[0m\u001b[0;34m)\u001b[0m\u001b[0;34m:\u001b[0m\u001b[0;34m\u001b[0m\u001b[0;34m\u001b[0m\u001b[0m\n\u001b[0;32m--> 345\u001b[0;31m         \u001b[0mdata\u001b[0m \u001b[0;34m=\u001b[0m \u001b[0mself\u001b[0m\u001b[0;34m.\u001b[0m\u001b[0m_next_data\u001b[0m\u001b[0;34m(\u001b[0m\u001b[0;34m)\u001b[0m\u001b[0;34m\u001b[0m\u001b[0;34m\u001b[0m\u001b[0m\n\u001b[0m\u001b[1;32m    346\u001b[0m         \u001b[0mself\u001b[0m\u001b[0;34m.\u001b[0m\u001b[0m_num_yielded\u001b[0m \u001b[0;34m+=\u001b[0m \u001b[0;36m1\u001b[0m\u001b[0;34m\u001b[0m\u001b[0;34m\u001b[0m\u001b[0m\n\u001b[1;32m    347\u001b[0m         \u001b[0;32mif\u001b[0m \u001b[0mself\u001b[0m\u001b[0;34m.\u001b[0m\u001b[0m_dataset_kind\u001b[0m \u001b[0;34m==\u001b[0m \u001b[0m_DatasetKind\u001b[0m\u001b[0;34m.\u001b[0m\u001b[0mIterable\u001b[0m \u001b[0;32mand\u001b[0m\u001b[0;31m \u001b[0m\u001b[0;31m\\\u001b[0m\u001b[0;34m\u001b[0m\u001b[0;34m\u001b[0m\u001b[0m\n",
      "\u001b[0;32m/opt/conda/lib/python3.6/site-packages/torch/utils/data/dataloader.py\u001b[0m in \u001b[0;36m_next_data\u001b[0;34m(self)\u001b[0m\n\u001b[1;32m    839\u001b[0m \u001b[0;34m\u001b[0m\u001b[0m\n\u001b[1;32m    840\u001b[0m             \u001b[0;32massert\u001b[0m \u001b[0;32mnot\u001b[0m \u001b[0mself\u001b[0m\u001b[0;34m.\u001b[0m\u001b[0m_shutdown\u001b[0m \u001b[0;32mand\u001b[0m \u001b[0mself\u001b[0m\u001b[0;34m.\u001b[0m\u001b[0m_tasks_outstanding\u001b[0m \u001b[0;34m>\u001b[0m \u001b[0;36m0\u001b[0m\u001b[0;34m\u001b[0m\u001b[0;34m\u001b[0m\u001b[0m\n\u001b[0;32m--> 841\u001b[0;31m             \u001b[0midx\u001b[0m\u001b[0;34m,\u001b[0m \u001b[0mdata\u001b[0m \u001b[0;34m=\u001b[0m \u001b[0mself\u001b[0m\u001b[0;34m.\u001b[0m\u001b[0m_get_data\u001b[0m\u001b[0;34m(\u001b[0m\u001b[0;34m)\u001b[0m\u001b[0;34m\u001b[0m\u001b[0;34m\u001b[0m\u001b[0m\n\u001b[0m\u001b[1;32m    842\u001b[0m             \u001b[0mself\u001b[0m\u001b[0;34m.\u001b[0m\u001b[0m_tasks_outstanding\u001b[0m \u001b[0;34m-=\u001b[0m \u001b[0;36m1\u001b[0m\u001b[0;34m\u001b[0m\u001b[0;34m\u001b[0m\u001b[0m\n\u001b[1;32m    843\u001b[0m \u001b[0;34m\u001b[0m\u001b[0m\n",
      "\u001b[0;32m/opt/conda/lib/python3.6/site-packages/torch/utils/data/dataloader.py\u001b[0m in \u001b[0;36m_get_data\u001b[0;34m(self)\u001b[0m\n\u001b[1;32m    806\u001b[0m         \u001b[0;32melse\u001b[0m\u001b[0;34m:\u001b[0m\u001b[0;34m\u001b[0m\u001b[0;34m\u001b[0m\u001b[0m\n\u001b[1;32m    807\u001b[0m             \u001b[0;32mwhile\u001b[0m \u001b[0;32mTrue\u001b[0m\u001b[0;34m:\u001b[0m\u001b[0;34m\u001b[0m\u001b[0;34m\u001b[0m\u001b[0m\n\u001b[0;32m--> 808\u001b[0;31m                 \u001b[0msuccess\u001b[0m\u001b[0;34m,\u001b[0m \u001b[0mdata\u001b[0m \u001b[0;34m=\u001b[0m \u001b[0mself\u001b[0m\u001b[0;34m.\u001b[0m\u001b[0m_try_get_data\u001b[0m\u001b[0;34m(\u001b[0m\u001b[0;34m)\u001b[0m\u001b[0;34m\u001b[0m\u001b[0;34m\u001b[0m\u001b[0m\n\u001b[0m\u001b[1;32m    809\u001b[0m                 \u001b[0;32mif\u001b[0m \u001b[0msuccess\u001b[0m\u001b[0;34m:\u001b[0m\u001b[0;34m\u001b[0m\u001b[0;34m\u001b[0m\u001b[0m\n\u001b[1;32m    810\u001b[0m                     \u001b[0;32mreturn\u001b[0m \u001b[0mdata\u001b[0m\u001b[0;34m\u001b[0m\u001b[0;34m\u001b[0m\u001b[0m\n",
      "\u001b[0;32m/opt/conda/lib/python3.6/site-packages/torch/utils/data/dataloader.py\u001b[0m in \u001b[0;36m_try_get_data\u001b[0;34m(self, timeout)\u001b[0m\n\u001b[1;32m    759\u001b[0m         \u001b[0;31m#   (bool: whether successfully get data, any: data if successful else None)\u001b[0m\u001b[0;34m\u001b[0m\u001b[0;34m\u001b[0m\u001b[0;34m\u001b[0m\u001b[0m\n\u001b[1;32m    760\u001b[0m         \u001b[0;32mtry\u001b[0m\u001b[0;34m:\u001b[0m\u001b[0;34m\u001b[0m\u001b[0;34m\u001b[0m\u001b[0m\n\u001b[0;32m--> 761\u001b[0;31m             \u001b[0mdata\u001b[0m \u001b[0;34m=\u001b[0m \u001b[0mself\u001b[0m\u001b[0;34m.\u001b[0m\u001b[0m_data_queue\u001b[0m\u001b[0;34m.\u001b[0m\u001b[0mget\u001b[0m\u001b[0;34m(\u001b[0m\u001b[0mtimeout\u001b[0m\u001b[0;34m=\u001b[0m\u001b[0mtimeout\u001b[0m\u001b[0;34m)\u001b[0m\u001b[0;34m\u001b[0m\u001b[0;34m\u001b[0m\u001b[0m\n\u001b[0m\u001b[1;32m    762\u001b[0m             \u001b[0;32mreturn\u001b[0m \u001b[0;34m(\u001b[0m\u001b[0;32mTrue\u001b[0m\u001b[0;34m,\u001b[0m \u001b[0mdata\u001b[0m\u001b[0;34m)\u001b[0m\u001b[0;34m\u001b[0m\u001b[0;34m\u001b[0m\u001b[0m\n\u001b[1;32m    763\u001b[0m         \u001b[0;32mexcept\u001b[0m \u001b[0mException\u001b[0m \u001b[0;32mas\u001b[0m \u001b[0me\u001b[0m\u001b[0;34m:\u001b[0m\u001b[0;34m\u001b[0m\u001b[0;34m\u001b[0m\u001b[0m\n",
      "\u001b[0;32m/opt/conda/lib/python3.6/multiprocessing/queues.py\u001b[0m in \u001b[0;36mget\u001b[0;34m(self, block, timeout)\u001b[0m\n\u001b[1;32m    102\u001b[0m                 \u001b[0;32mif\u001b[0m \u001b[0mblock\u001b[0m\u001b[0;34m:\u001b[0m\u001b[0;34m\u001b[0m\u001b[0;34m\u001b[0m\u001b[0m\n\u001b[1;32m    103\u001b[0m                     \u001b[0mtimeout\u001b[0m \u001b[0;34m=\u001b[0m \u001b[0mdeadline\u001b[0m \u001b[0;34m-\u001b[0m \u001b[0mtime\u001b[0m\u001b[0;34m.\u001b[0m\u001b[0mmonotonic\u001b[0m\u001b[0;34m(\u001b[0m\u001b[0;34m)\u001b[0m\u001b[0;34m\u001b[0m\u001b[0;34m\u001b[0m\u001b[0m\n\u001b[0;32m--> 104\u001b[0;31m                     \u001b[0;32mif\u001b[0m \u001b[0;32mnot\u001b[0m \u001b[0mself\u001b[0m\u001b[0;34m.\u001b[0m\u001b[0m_poll\u001b[0m\u001b[0;34m(\u001b[0m\u001b[0mtimeout\u001b[0m\u001b[0;34m)\u001b[0m\u001b[0;34m:\u001b[0m\u001b[0;34m\u001b[0m\u001b[0;34m\u001b[0m\u001b[0m\n\u001b[0m\u001b[1;32m    105\u001b[0m                         \u001b[0;32mraise\u001b[0m \u001b[0mEmpty\u001b[0m\u001b[0;34m\u001b[0m\u001b[0;34m\u001b[0m\u001b[0m\n\u001b[1;32m    106\u001b[0m                 \u001b[0;32melif\u001b[0m \u001b[0;32mnot\u001b[0m \u001b[0mself\u001b[0m\u001b[0;34m.\u001b[0m\u001b[0m_poll\u001b[0m\u001b[0;34m(\u001b[0m\u001b[0;34m)\u001b[0m\u001b[0;34m:\u001b[0m\u001b[0;34m\u001b[0m\u001b[0;34m\u001b[0m\u001b[0m\n",
      "\u001b[0;32m/opt/conda/lib/python3.6/multiprocessing/connection.py\u001b[0m in \u001b[0;36mpoll\u001b[0;34m(self, timeout)\u001b[0m\n\u001b[1;32m    255\u001b[0m         \u001b[0mself\u001b[0m\u001b[0;34m.\u001b[0m\u001b[0m_check_closed\u001b[0m\u001b[0;34m(\u001b[0m\u001b[0;34m)\u001b[0m\u001b[0;34m\u001b[0m\u001b[0;34m\u001b[0m\u001b[0m\n\u001b[1;32m    256\u001b[0m         \u001b[0mself\u001b[0m\u001b[0;34m.\u001b[0m\u001b[0m_check_readable\u001b[0m\u001b[0;34m(\u001b[0m\u001b[0;34m)\u001b[0m\u001b[0;34m\u001b[0m\u001b[0;34m\u001b[0m\u001b[0m\n\u001b[0;32m--> 257\u001b[0;31m         \u001b[0;32mreturn\u001b[0m \u001b[0mself\u001b[0m\u001b[0;34m.\u001b[0m\u001b[0m_poll\u001b[0m\u001b[0;34m(\u001b[0m\u001b[0mtimeout\u001b[0m\u001b[0;34m)\u001b[0m\u001b[0;34m\u001b[0m\u001b[0;34m\u001b[0m\u001b[0m\n\u001b[0m\u001b[1;32m    258\u001b[0m \u001b[0;34m\u001b[0m\u001b[0m\n\u001b[1;32m    259\u001b[0m     \u001b[0;32mdef\u001b[0m \u001b[0m__enter__\u001b[0m\u001b[0;34m(\u001b[0m\u001b[0mself\u001b[0m\u001b[0;34m)\u001b[0m\u001b[0;34m:\u001b[0m\u001b[0;34m\u001b[0m\u001b[0;34m\u001b[0m\u001b[0m\n",
      "\u001b[0;32m/opt/conda/lib/python3.6/multiprocessing/connection.py\u001b[0m in \u001b[0;36m_poll\u001b[0;34m(self, timeout)\u001b[0m\n\u001b[1;32m    412\u001b[0m \u001b[0;34m\u001b[0m\u001b[0m\n\u001b[1;32m    413\u001b[0m     \u001b[0;32mdef\u001b[0m \u001b[0m_poll\u001b[0m\u001b[0;34m(\u001b[0m\u001b[0mself\u001b[0m\u001b[0;34m,\u001b[0m \u001b[0mtimeout\u001b[0m\u001b[0;34m)\u001b[0m\u001b[0;34m:\u001b[0m\u001b[0;34m\u001b[0m\u001b[0;34m\u001b[0m\u001b[0m\n\u001b[0;32m--> 414\u001b[0;31m         \u001b[0mr\u001b[0m \u001b[0;34m=\u001b[0m \u001b[0mwait\u001b[0m\u001b[0;34m(\u001b[0m\u001b[0;34m[\u001b[0m\u001b[0mself\u001b[0m\u001b[0;34m]\u001b[0m\u001b[0;34m,\u001b[0m \u001b[0mtimeout\u001b[0m\u001b[0;34m)\u001b[0m\u001b[0;34m\u001b[0m\u001b[0;34m\u001b[0m\u001b[0m\n\u001b[0m\u001b[1;32m    415\u001b[0m         \u001b[0;32mreturn\u001b[0m \u001b[0mbool\u001b[0m\u001b[0;34m(\u001b[0m\u001b[0mr\u001b[0m\u001b[0;34m)\u001b[0m\u001b[0;34m\u001b[0m\u001b[0;34m\u001b[0m\u001b[0m\n\u001b[1;32m    416\u001b[0m \u001b[0;34m\u001b[0m\u001b[0m\n",
      "\u001b[0;32m/opt/conda/lib/python3.6/multiprocessing/connection.py\u001b[0m in \u001b[0;36mwait\u001b[0;34m(object_list, timeout)\u001b[0m\n\u001b[1;32m    909\u001b[0m \u001b[0;34m\u001b[0m\u001b[0m\n\u001b[1;32m    910\u001b[0m             \u001b[0;32mwhile\u001b[0m \u001b[0;32mTrue\u001b[0m\u001b[0;34m:\u001b[0m\u001b[0;34m\u001b[0m\u001b[0;34m\u001b[0m\u001b[0m\n\u001b[0;32m--> 911\u001b[0;31m                 \u001b[0mready\u001b[0m \u001b[0;34m=\u001b[0m \u001b[0mselector\u001b[0m\u001b[0;34m.\u001b[0m\u001b[0mselect\u001b[0m\u001b[0;34m(\u001b[0m\u001b[0mtimeout\u001b[0m\u001b[0;34m)\u001b[0m\u001b[0;34m\u001b[0m\u001b[0;34m\u001b[0m\u001b[0m\n\u001b[0m\u001b[1;32m    912\u001b[0m                 \u001b[0;32mif\u001b[0m \u001b[0mready\u001b[0m\u001b[0;34m:\u001b[0m\u001b[0;34m\u001b[0m\u001b[0;34m\u001b[0m\u001b[0m\n\u001b[1;32m    913\u001b[0m                     \u001b[0;32mreturn\u001b[0m \u001b[0;34m[\u001b[0m\u001b[0mkey\u001b[0m\u001b[0;34m.\u001b[0m\u001b[0mfileobj\u001b[0m \u001b[0;32mfor\u001b[0m \u001b[0;34m(\u001b[0m\u001b[0mkey\u001b[0m\u001b[0;34m,\u001b[0m \u001b[0mevents\u001b[0m\u001b[0;34m)\u001b[0m \u001b[0;32min\u001b[0m \u001b[0mready\u001b[0m\u001b[0;34m]\u001b[0m\u001b[0;34m\u001b[0m\u001b[0;34m\u001b[0m\u001b[0m\n",
      "\u001b[0;32m/opt/conda/lib/python3.6/selectors.py\u001b[0m in \u001b[0;36mselect\u001b[0;34m(self, timeout)\u001b[0m\n\u001b[1;32m    374\u001b[0m             \u001b[0mready\u001b[0m \u001b[0;34m=\u001b[0m \u001b[0;34m[\u001b[0m\u001b[0;34m]\u001b[0m\u001b[0;34m\u001b[0m\u001b[0;34m\u001b[0m\u001b[0m\n\u001b[1;32m    375\u001b[0m             \u001b[0;32mtry\u001b[0m\u001b[0;34m:\u001b[0m\u001b[0;34m\u001b[0m\u001b[0;34m\u001b[0m\u001b[0m\n\u001b[0;32m--> 376\u001b[0;31m                 \u001b[0mfd_event_list\u001b[0m \u001b[0;34m=\u001b[0m \u001b[0mself\u001b[0m\u001b[0;34m.\u001b[0m\u001b[0m_poll\u001b[0m\u001b[0;34m.\u001b[0m\u001b[0mpoll\u001b[0m\u001b[0;34m(\u001b[0m\u001b[0mtimeout\u001b[0m\u001b[0;34m)\u001b[0m\u001b[0;34m\u001b[0m\u001b[0;34m\u001b[0m\u001b[0m\n\u001b[0m\u001b[1;32m    377\u001b[0m             \u001b[0;32mexcept\u001b[0m \u001b[0mInterruptedError\u001b[0m\u001b[0;34m:\u001b[0m\u001b[0;34m\u001b[0m\u001b[0;34m\u001b[0m\u001b[0m\n\u001b[1;32m    378\u001b[0m                 \u001b[0;32mreturn\u001b[0m \u001b[0mready\u001b[0m\u001b[0;34m\u001b[0m\u001b[0;34m\u001b[0m\u001b[0m\n",
      "\u001b[0;31mKeyboardInterrupt\u001b[0m: "
     ]
    }
   ],
   "source": [
    "# for i in range(5):\n",
    "model_ft = train_model(model_ft, criterion, optimizer_ft, exp_lr_scheduler,\n",
    "                           num_epochs=20)\n",
    "torch.save(model_ft.state_dict(),\"pretrained_img_plus_edge_resnet18.pth\")"
   ]
  },
  {
   "cell_type": "code",
   "execution_count": null,
   "metadata": {
    "id": "8XNRD2C9D3aZ"
   },
   "outputs": [],
   "source": [
    "def apk(actual, predicted, k=5):\n",
    "  \"\"\"Computes the average precision at k.\n",
    "\n",
    "  Args:\n",
    "    actual: The turtle ID to be predicted.\n",
    "    predicted : A list of predicted turtle IDs (order does matter).\n",
    "    k : The maximum number of predicted elements.\n",
    "\n",
    "  Returns:\n",
    "    The average precision at k.\n",
    "  \"\"\"\n",
    "  if len(predicted) > k:\n",
    "    predicted = predicted[:k]\n",
    "\n",
    "  score = 0.0\n",
    "  num_hits = 0.0\n",
    "\n",
    "  for i, p in enumerate(predicted):\n",
    "    if p == actual and p not in predicted[:i]:\n",
    "      num_hits += 1.0\n",
    "      score += num_hits / (i + 1.0)\n",
    "\n",
    "  return score\n",
    "\n",
    "\n",
    "def mapk(actual, predicted, k=5):\n",
    "  \"\"\" Computes the mean average precision at k.\n",
    "\n",
    "    The turtle ID at actual[i] will be used to score predicted[i][:k] so order\n",
    "    matters throughout!\n",
    "\n",
    "    actual: A list of the true turtle IDs to score against.\n",
    "    predicted: A list of lists of predicted turtle IDs.\n",
    "    k: The size of the window to score within.\n",
    "\n",
    "    Returns:\n",
    "      The mean average precision at k.\n",
    "  \"\"\"\n",
    "  return np.mean([apk(a, p, k) for a, p in zip(actual, predicted)])"
   ]
  },
  {
   "cell_type": "code",
   "execution_count": null,
   "metadata": {
    "id": "1NRgDhoCBdRW"
   },
   "outputs": [],
   "source": [
    "def test_model(model, criterion, optimizer, scheduler):\n",
    "\n",
    "    model.eval()   # Set model to evaluate mode\n",
    "\n",
    "    t_output = []\n",
    "    t_pred = []\n",
    "    y_test = []\n",
    "    top_k = []\n",
    "    # Iterate over data.\n",
    "    i = 1\n",
    "    for inputs, labels in dataloaders['test']:\n",
    "        # inputs = inputs.type(torch.DoubleTensor)\n",
    "        inputs = inputs.to(device)\n",
    "        labels = labels.to(device)\n",
    "        y_test.append(labels)\n",
    "\n",
    "        # zero the parameter gradients\n",
    "        optimizer.zero_grad()\n",
    "\n",
    "        # forward\n",
    "        # track history if only in train\n",
    "        with torch.set_grad_enabled(True):\n",
    "            outputs = model(inputs.float())\n",
    "            _, preds = torch.max(outputs, 1)\n",
    "            loss = criterion(outputs, labels)\n",
    "            t_output.append(outputs)\n",
    "            t_pred.append(preds)\n",
    "            temp1, temp2 = outputs.topk(5)\n",
    "            top_k.append(temp2)\n",
    "\n",
    "        i+=1\n",
    "        if i == 11:\n",
    "            break\n",
    "\n",
    "    y_test = torch.cat(y_test).cpu().detach().numpy() \n",
    "    y_test_num = torch.cat(t_pred).cpu().detach().numpy() \n",
    "    y_pred = torch.cat(top_k).cpu().detach().numpy() \n",
    "    mapk_result = mapk(y_test, y_pred, k=5)\n",
    "    print(\"With real set labels, our mapk with k=5 is\", mapk_result)\n",
    "    print('\\nConfusion Matrix')\n",
    "    conf_mt = confusion_matrix(y_test_num, y_test)\n",
    "    print(conf_mt)\n",
    "    plt.matshow(conf_mt)\n",
    "    plt.show()\n",
    "    print('\\nClassification Report')\n",
    "    print(classification_report(y_test_num, y_test))"
   ]
  },
  {
   "cell_type": "code",
   "execution_count": null,
   "metadata": {
    "colab": {
     "base_uri": "https://localhost:8080/",
     "height": 1000
    },
    "id": "telFbCPoCPwT",
    "outputId": "9cd8896e-1ac1-4f1b-e727-50751150dd39"
   },
   "outputs": [],
   "source": [
    "test_model(model_ft, criterion, optimizer_ft, exp_lr_scheduler)"
   ]
  },
  {
   "cell_type": "code",
   "execution_count": null,
   "metadata": {
    "colab": {
     "base_uri": "https://localhost:8080/",
     "height": 364
    },
    "id": "i28Lt9aWEt62",
    "outputId": "7b9c2528-4541-49f3-ce43-7a2b42b01047"
   },
   "outputs": [],
   "source": [
    "visualize_model(model_ft)"
   ]
  },
  {
   "cell_type": "code",
   "execution_count": null,
   "metadata": {
    "id": "aEgeMKlx1U2E"
   },
   "outputs": [],
   "source": []
  }
 ],
 "metadata": {
  "accelerator": "GPU",
  "colab": {
   "collapsed_sections": [],
   "name": "Pytorch_turtle.ipynb",
   "provenance": []
  },
  "kernelspec": {
   "display_name": "Python 3",
   "language": "python",
   "name": "python3"
  },
  "language_info": {
   "codemirror_mode": {
    "name": "ipython",
    "version": 3
   },
   "file_extension": ".py",
   "mimetype": "text/x-python",
   "name": "python",
   "nbconvert_exporter": "python",
   "pygments_lexer": "ipython3",
   "version": "3.6.10"
  }
 },
 "nbformat": 4,
 "nbformat_minor": 1
}
